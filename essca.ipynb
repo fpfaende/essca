{
 "cells": [
  {
   "cell_type": "markdown",
   "metadata": {},
   "source": [
    "# My first program in python\n",
    "## opening excel\n",
    "### library pandas"
   ]
  },
  {
   "cell_type": "code",
   "execution_count": 40,
   "metadata": {},
   "outputs": [],
   "source": [
    "import pandas\n",
    "import requests\n",
    "import time\n",
    "import random"
   ]
  },
  {
   "cell_type": "code",
   "execution_count": 44,
   "metadata": {},
   "outputs": [
    {
     "data": {
      "text/plain": [
       "0.7122706071876725"
      ]
     },
     "execution_count": 44,
     "metadata": {},
     "output_type": "execute_result"
    }
   ],
   "source": [
    "random.random()"
   ]
  },
  {
   "cell_type": "markdown",
   "metadata": {},
   "source": [
    "read the excel file into a dataframe"
   ]
  },
  {
   "cell_type": "code",
   "execution_count": 38,
   "metadata": {},
   "outputs": [],
   "source": [
    "path = '/Users/fabien/Documents/workspace/github/essca/Data-sheet-STUDENTS.xlsx'\n",
    "df = pandas.read_excel(path, header=2, usecols='B:AR')"
   ]
  },
  {
   "cell_type": "code",
   "execution_count": null,
   "metadata": {},
   "outputs": [],
   "source": [
    "countries={}"
   ]
  },
  {
   "cell_type": "code",
   "execution_count": 55,
   "metadata": {},
   "outputs": [
    {
     "name": "stdout",
     "output_type": "stream",
     "text": [
      "trying to get Germany (not BRI) ...\n",
      "trying to get Thailiand ...\n",
      "{'status': 404, 'message': 'Not Found'}\n",
      "trying to get The United Arab Emirates ...\n",
      "{'status': 404, 'message': 'Not Found'}\n"
     ]
    }
   ],
   "source": [
    "for i,v in df['Country (according to CN Gov):'].iteritems():\n",
    "    if v in countries.keys():\n",
    "        continue\n",
    "    print('trying to get',v,'...')\n",
    "        \n",
    "    try:\n",
    "        if '(not bri)' not in v.lower():\n",
    "            url = 'https://restcountries.eu/rest/v2/name/'+v\n",
    "        else:\n",
    "            url = 'https://restcountries.eu/rest/v2/name/'+v.split('(')[0].strip()\n",
    "        r = requests.get(url)\n",
    "        data = r.json()\n",
    "        isoCode = data[0]['alpha3Code']\n",
    "        countries[v] = isoCode\n",
    "    except KeyError:\n",
    "        print(data)\n",
    "    time.sleep(0.5+random.random())"
   ]
  },
  {
   "cell_type": "code",
   "execution_count": 56,
   "metadata": {},
   "outputs": [],
   "source": [
    "countries['Thailiand'] = 'THA'\n",
    "countries['The United Arab Emirates'] = 'ARE'"
   ]
  },
  {
   "cell_type": "code",
   "execution_count": 22,
   "metadata": {},
   "outputs": [],
   "source": [
    "url = 'http://api.worldbank.org/v2/country/chn/indicator/GC.TAX.IMPT.ZS?format=json'"
   ]
  },
  {
   "cell_type": "code",
   "execution_count": 24,
   "metadata": {},
   "outputs": [
    {
     "name": "stdout",
     "output_type": "stream",
     "text": [
      "200\n",
      "data for china: None\n"
     ]
    }
   ],
   "source": [
    "import requests\n",
    "r = requests.get(url)\n",
    "print(r.status_code)\n",
    "data = r.json()\n",
    "print('data for china:',data[1][1]['value'])"
   ]
  },
  {
   "cell_type": "code",
   "execution_count": 32,
   "metadata": {},
   "outputs": [
    {
     "name": "stdout",
     "output_type": "stream",
     "text": [
      "2016 3.89434134127694\n"
     ]
    }
   ],
   "source": [
    "for item in data[1]:\n",
    "    if item['value'] is None:\n",
    "        continue\n",
    "    else:\n",
    "        print(item['date'],item['value'])\n",
    "        break"
   ]
  },
  {
   "cell_type": "code",
   "execution_count": null,
   "metadata": {},
   "outputs": [],
   "source": []
  }
 ],
 "metadata": {
  "kernelspec": {
   "display_name": "Python 3",
   "language": "python",
   "name": "python3"
  },
  "language_info": {
   "codemirror_mode": {
    "name": "ipython",
    "version": 3
   },
   "file_extension": ".py",
   "mimetype": "text/x-python",
   "name": "python",
   "nbconvert_exporter": "python",
   "pygments_lexer": "ipython3",
   "version": "3.7.2"
  }
 },
 "nbformat": 4,
 "nbformat_minor": 2
}
