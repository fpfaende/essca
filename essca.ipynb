{
 "cells": [
  {
   "cell_type": "markdown",
   "metadata": {},
   "source": [
    "# My first program in python\n",
    "## opening excel\n",
    "### library pandas"
   ]
  },
  {
   "cell_type": "code",
   "execution_count": 4,
   "metadata": {},
   "outputs": [],
   "source": [
    "import pandas"
   ]
  },
  {
   "cell_type": "markdown",
   "metadata": {},
   "source": [
    "read the excel file into a dataframe"
   ]
  },
  {
   "cell_type": "code",
   "execution_count": 7,
   "metadata": {},
   "outputs": [],
   "source": [
    "path = '/Users/fabien/Documents/workspace/github/essca/Data-sheet-STUDENTS.xlsx'\n",
    "df = pandas.read_excel(path, header=2, usecols='B:AR')"
   ]
  },
  {
   "cell_type": "code",
   "execution_count": 12,
   "metadata": {},
   "outputs": [
    {
     "data": {
      "text/plain": [
       "0                            Afghanistan\n",
       "1                                Albania\n",
       "2                                Armenia\n",
       "3                             Azerbaijan\n",
       "4                                Bahrain\n",
       "5                             Bangladesh\n",
       "6                                Belarus\n",
       "7                                 Bhutan\n",
       "8                 Bosnia and Herzegovina\n",
       "9                                 Brunei\n",
       "10                              Bulgaria\n",
       "11                              Cambodia\n",
       "12                                 China\n",
       "13                               Croatia\n",
       "14                        Czech Republic\n",
       "15                            East Timor\n",
       "16                                 Egypt\n",
       "17                               Estonia\n",
       "18                      France (Not BRI)\n",
       "19                               Georgia\n",
       "20                     Germany (not BRI)\n",
       "21                               Hungary\n",
       "22                                 India\n",
       "23                             Indonesia\n",
       "24                                  Iran\n",
       "25                                  Iraq\n",
       "26                                Israel\n",
       "27                                Jordan\n",
       "28                            Kazakhstan\n",
       "29                                Kuwait\n",
       "                     ...                \n",
       "38                               Moldova\n",
       "39                              Mongolia\n",
       "40                            Montenegro\n",
       "41                               Myanmar\n",
       "42                                 Nepal\n",
       "43                                  Oman\n",
       "44                              Pakistan\n",
       "45                           Philippines\n",
       "46                                Poland\n",
       "47                                 Qatar\n",
       "48                               Romania\n",
       "49                                Russia\n",
       "50                          Saudi Arabia\n",
       "51                                Serbia\n",
       "52                             Singapore\n",
       "53                              Slovakia\n",
       "54                              Slovenia\n",
       "55                             Sri Lanka\n",
       "56                                 Syria\n",
       "57                            Tajikistan\n",
       "58                             Thailiand\n",
       "59              The United Arab Emirates\n",
       "60                                Turkey\n",
       "61                          Turkmenistan\n",
       "62              United Kingdom (Not BRI)\n",
       "63    United States of America (Not BRI)\n",
       "64                               Ukraine\n",
       "65                            Uzbekistan\n",
       "66                               Vietnam\n",
       "67                                 Yemen\n",
       "Name: Country (according to CN Gov):, Length: 68, dtype: object"
      ]
     },
     "execution_count": 12,
     "metadata": {},
     "output_type": "execute_result"
    }
   ],
   "source": [
    "df['Country (according to CN Gov):']"
   ]
  },
  {
   "cell_type": "code",
   "execution_count": 15,
   "metadata": {},
   "outputs": [],
   "source": [
    "url = 'http://api.worldbank.org/v2/country/chn/indicator/GC.TAX.IMPT.ZS?format=json'"
   ]
  },
  {
   "cell_type": "code",
   "execution_count": 16,
   "metadata": {},
   "outputs": [
    {
     "name": "stdout",
     "output_type": "stream",
     "text": [
      "200\n",
      "data for brazil: None\n"
     ]
    }
   ],
   "source": [
    "import requests\n",
    "r = requests.get(url)\n",
    "print(r.status_code)\n",
    "data = r.json()\n",
    "print('data for brazil:',data[1][1]['value'])"
   ]
  },
  {
   "cell_type": "code",
   "execution_count": 19,
   "metadata": {},
   "outputs": [
    {
     "name": "stdout",
     "output_type": "stream",
     "text": [
      "2016 3.89434134127694\n",
      "2015 4.03725335567661\n",
      "2014 4.63755166607496\n",
      "2013 4.55182095202637\n",
      "2012 5.11380154921444\n",
      "2011 5.14480546308674\n",
      "2010 4.88159684682341\n",
      "2009 4.19590272439355\n",
      "2008 5.55099717007987\n",
      "2007 5.49704047099416\n",
      "2006 5.82387006857827\n",
      "2005 6.72809146002044\n"
     ]
    }
   ],
   "source": [
    "for indicator in data[1]:\n",
    "    if indicator['value'] is None:\n",
    "        continue\n",
    "    else:\n",
    "        print(indicator['date'],indicator['value'])\n",
    "        # break"
   ]
  },
  {
   "cell_type": "code",
   "execution_count": null,
   "metadata": {},
   "outputs": [],
   "source": []
  }
 ],
 "metadata": {
  "kernelspec": {
   "display_name": "Python 3",
   "language": "python",
   "name": "python3"
  },
  "language_info": {
   "codemirror_mode": {
    "name": "ipython",
    "version": 3
   },
   "file_extension": ".py",
   "mimetype": "text/x-python",
   "name": "python",
   "nbconvert_exporter": "python",
   "pygments_lexer": "ipython3",
   "version": "3.7.2"
  }
 },
 "nbformat": 4,
 "nbformat_minor": 2
}
