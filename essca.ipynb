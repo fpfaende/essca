{
 "cells": [
  {
   "cell_type": "markdown",
   "metadata": {},
   "source": [
    "# My first program in python\n",
    "## opening excel\n",
    "### library pandas"
   ]
  },
  {
   "cell_type": "code",
   "execution_count": 13,
   "metadata": {},
   "outputs": [],
   "source": [
    "import pandas\n",
    "import requests\n",
    "import time\n",
    "import random"
   ]
  },
  {
   "cell_type": "markdown",
   "metadata": {},
   "source": [
    "read the excel file into a dataframe"
   ]
  },
  {
   "cell_type": "code",
   "execution_count": 14,
   "metadata": {},
   "outputs": [],
   "source": [
    "path = '/Users/fabien/Documents/workspace/github/essca/Data-sheet-STUDENTS.xlsx'\n",
    "df = pandas.read_excel(path, header=2, usecols='B:AR')"
   ]
  },
  {
   "cell_type": "code",
   "execution_count": 15,
   "metadata": {},
   "outputs": [
    {
     "data": {
      "text/plain": [
       "nan"
      ]
     },
     "execution_count": 15,
     "metadata": {},
     "output_type": "execute_result"
    }
   ],
   "source": [
    "df.at[0,'IMF WB\\nCustoms and other import duties (% of tax revenue) 2016']"
   ]
  },
  {
   "cell_type": "code",
   "execution_count": 16,
   "metadata": {},
   "outputs": [],
   "source": [
    "countries={}"
   ]
  },
  {
   "cell_type": "code",
   "execution_count": 17,
   "metadata": {},
   "outputs": [
    {
     "name": "stdout",
     "output_type": "stream",
     "text": [
      "trying to get Afghanistan for index 0\n",
      "trying to get Albania for index 1\n",
      "trying to get Armenia for index 2\n",
      "trying to get Azerbaijan for index 3\n",
      "trying to get Bahrain for index 4\n",
      "trying to get Bangladesh for index 5\n",
      "trying to get Belarus for index 6\n",
      "trying to get Bhutan for index 7\n",
      "trying to get Bosnia and Herzegovina for index 8\n",
      "trying to get Brunei for index 9\n",
      "trying to get Bulgaria for index 10\n",
      "trying to get Cambodia for index 11\n",
      "trying to get China for index 12\n",
      "trying to get Croatia for index 13\n",
      "trying to get Czech Republic for index 14\n",
      "trying to get East Timor for index 15\n",
      "trying to get Egypt for index 16\n",
      "trying to get Estonia for index 17\n",
      "trying to get France (Not BRI) for index 18\n",
      "trying to get Georgia for index 19\n",
      "trying to get Germany (not BRI) for index 20\n",
      "trying to get Hungary for index 21\n",
      "trying to get India for index 22\n",
      "trying to get Indonesia for index 23\n",
      "trying to get Iran for index 24\n",
      "trying to get Iraq for index 25\n",
      "trying to get Israel for index 26\n",
      "trying to get Jordan for index 27\n",
      "trying to get Kazakhstan for index 28\n",
      "trying to get Kuwait for index 29\n",
      "trying to get Kyrgyzstan for index 30\n",
      "trying to get Laos for index 31\n",
      "trying to get Latvia for index 32\n",
      "trying to get Lebanon for index 33\n",
      "trying to get Lithuania for index 34\n",
      "trying to get Macedonia for index 35\n",
      "trying to get Malaysia for index 36\n",
      "trying to get Maldives for index 37\n",
      "trying to get Moldova for index 38\n",
      "trying to get Mongolia for index 39\n",
      "trying to get Montenegro for index 40\n",
      "trying to get Myanmar for index 41\n",
      "trying to get Nepal for index 42\n",
      "trying to get Oman for index 43\n",
      "trying to get Pakistan for index 44\n",
      "trying to get Philippines for index 45\n",
      "trying to get Poland for index 46\n",
      "trying to get Qatar for index 47\n",
      "trying to get Romania for index 48\n",
      "trying to get Russia for index 49\n",
      "trying to get Saudi Arabia for index 50\n",
      "trying to get Serbia for index 51\n",
      "trying to get Singapore for index 52\n",
      "trying to get Slovakia for index 53\n",
      "trying to get Slovenia for index 54\n",
      "trying to get Sri Lanka for index 55\n",
      "trying to get Syria for index 56\n",
      "trying to get Tajikistan for index 57\n",
      "trying to get Thailiand for index 58\n",
      "{'status': 404, 'message': 'Not Found'}\n",
      "trying to get The United Arab Emirates for index 59\n",
      "{'status': 404, 'message': 'Not Found'}\n",
      "trying to get Turkey for index 60\n",
      "trying to get Turkmenistan for index 61\n",
      "trying to get United Kingdom (Not BRI) for index 62\n",
      "trying to get United States of America (Not BRI) for index 63\n",
      "trying to get Ukraine for index 64\n",
      "trying to get Uzbekistan for index 65\n",
      "trying to get Vietnam for index 66\n",
      "trying to get Yemen for index 67\n"
     ]
    }
   ],
   "source": [
    "for i,v in df['Country (according to CN Gov):'].iteritems():\n",
    "    if v in countries.keys():\n",
    "        continue\n",
    "    print('trying to get',v,'for index',i)\n",
    "        \n",
    "    try:\n",
    "        if '(not bri)' not in v.lower():\n",
    "            url = 'https://restcountries.eu/rest/v2/name/'+v\n",
    "        else:\n",
    "            url = 'https://restcountries.eu/rest/v2/name/'+v.split('(')[0].strip()\n",
    "        r = requests.get(url)\n",
    "        data = r.json()\n",
    "        isoCode = data[0]['alpha3Code']\n",
    "        countries[v] = (isoCode,i)\n",
    "    except KeyError:\n",
    "        print(data)\n",
    "    time.sleep(0.5+random.random())"
   ]
  },
  {
   "cell_type": "code",
   "execution_count": 18,
   "metadata": {},
   "outputs": [
    {
     "data": {
      "text/plain": [
       "{'Afghanistan': ('AFG', 0),\n",
       " 'Albania': ('ALB', 1),\n",
       " 'Armenia': ('ARM', 2),\n",
       " 'Azerbaijan': ('AZE', 3),\n",
       " 'Bahrain': ('BHR', 4),\n",
       " 'Bangladesh': ('BGD', 5),\n",
       " 'Belarus': ('BLR', 6),\n",
       " 'Bhutan': ('BTN', 7),\n",
       " 'Bosnia and Herzegovina': ('BIH', 8),\n",
       " 'Brunei': ('BRN', 9),\n",
       " 'Bulgaria': ('BGR', 10),\n",
       " 'Cambodia': ('KHM', 11),\n",
       " 'China': ('CHN', 12),\n",
       " 'Croatia': ('HRV', 13),\n",
       " 'Czech Republic': ('CZE', 14),\n",
       " 'East Timor': ('TLS', 15),\n",
       " 'Egypt': ('EGY', 16),\n",
       " 'Estonia': ('EST', 17),\n",
       " 'France (Not BRI)': ('FRA', 18),\n",
       " 'Georgia': ('GEO', 19),\n",
       " 'Germany (not BRI)': ('DEU', 20),\n",
       " 'Hungary': ('HUN', 21),\n",
       " 'India': ('IOT', 22),\n",
       " 'Indonesia': ('IDN', 23),\n",
       " 'Iran': ('IRN', 24),\n",
       " 'Iraq': ('IRQ', 25),\n",
       " 'Israel': ('ISR', 26),\n",
       " 'Jordan': ('JOR', 27),\n",
       " 'Kazakhstan': ('KAZ', 28),\n",
       " 'Kuwait': ('KWT', 29),\n",
       " 'Kyrgyzstan': ('KGZ', 30),\n",
       " 'Laos': ('LAO', 31),\n",
       " 'Latvia': ('LVA', 32),\n",
       " 'Lebanon': ('LBN', 33),\n",
       " 'Lithuania': ('LTU', 34),\n",
       " 'Macedonia': ('MKD', 35),\n",
       " 'Malaysia': ('MYS', 36),\n",
       " 'Maldives': ('MDV', 37),\n",
       " 'Moldova': ('MDA', 38),\n",
       " 'Mongolia': ('MNG', 39),\n",
       " 'Montenegro': ('MNE', 40),\n",
       " 'Myanmar': ('MMR', 41),\n",
       " 'Nepal': ('NPL', 42),\n",
       " 'Oman': ('OMN', 43),\n",
       " 'Pakistan': ('PAK', 44),\n",
       " 'Philippines': ('PHL', 45),\n",
       " 'Poland': ('POL', 46),\n",
       " 'Qatar': ('QAT', 47),\n",
       " 'Romania': ('ROU', 48),\n",
       " 'Russia': ('RUS', 49),\n",
       " 'Saudi Arabia': ('SAU', 50),\n",
       " 'Serbia': ('SRB', 51),\n",
       " 'Singapore': ('SGP', 52),\n",
       " 'Slovakia': ('SVK', 53),\n",
       " 'Slovenia': ('SVN', 54),\n",
       " 'Sri Lanka': ('LKA', 55),\n",
       " 'Syria': ('SYR', 56),\n",
       " 'Tajikistan': ('TJK', 57),\n",
       " 'Turkey': ('TUR', 60),\n",
       " 'Turkmenistan': ('TKM', 61),\n",
       " 'United Kingdom (Not BRI)': ('GBR', 62),\n",
       " 'United States of America (Not BRI)': ('USA', 63),\n",
       " 'Ukraine': ('UKR', 64),\n",
       " 'Uzbekistan': ('UZB', 65),\n",
       " 'Vietnam': ('VNM', 66),\n",
       " 'Yemen': ('YEM', 67),\n",
       " 'Thailiand': 'THA',\n",
       " 'The United Arab Emirates': 'ARE'}"
      ]
     },
     "execution_count": 18,
     "metadata": {},
     "output_type": "execute_result"
    }
   ],
   "source": [
    "countries['Thailiand'] = 'THA'\n",
    "countries['The United Arab Emirates'] = 'ARE'\n",
    "countries"
   ]
  },
  {
   "cell_type": "code",
   "execution_count": 19,
   "metadata": {},
   "outputs": [],
   "source": [
    "import pickle\n",
    "with open('/Users/fabien/Documents/workspace/github/essca/countries.pck','wb') as handle:\n",
    "    pickle.dump(countries, handle, protocol=pickle.HIGHEST_PROTOCOL)"
   ]
  },
  {
   "cell_type": "code",
   "execution_count": 20,
   "metadata": {},
   "outputs": [],
   "source": [
    "import pickle\n",
    "with open('YOUR_PATH\\\\countries.pck','rb') as handle:\n",
    "    countries = pickle.load(handle)"
   ]
  },
  {
   "cell_type": "code",
   "execution_count": 21,
   "metadata": {},
   "outputs": [
    {
     "data": {
      "text/plain": [
       "('AFG', 0)"
      ]
     },
     "execution_count": 21,
     "metadata": {},
     "output_type": "execute_result"
    }
   ],
   "source": [
    "countries['Afghanistan']"
   ]
  },
  {
   "cell_type": "code",
   "execution_count": 2,
   "metadata": {},
   "outputs": [],
   "source": [
    "url = 'http://api.worldbank.org/v2/country/chn/indicator/GC.TAX.IMPT.ZS?format=json'"
   ]
  },
  {
   "cell_type": "code",
   "execution_count": 24,
   "metadata": {},
   "outputs": [
    {
     "name": "stdout",
     "output_type": "stream",
     "text": [
      "200\n",
      "data for china: None\n"
     ]
    }
   ],
   "source": [
    "import requests\n",
    "r = requests.get(url)\n",
    "print(r.status_code)\n",
    "data = r.json()\n",
    "print('data for china:',data[1][1]['value'])"
   ]
  },
  {
   "cell_type": "code",
   "execution_count": 32,
   "metadata": {},
   "outputs": [
    {
     "name": "stdout",
     "output_type": "stream",
     "text": [
      "2016 3.89434134127694\n"
     ]
    }
   ],
   "source": [
    "for item in data[1]:\n",
    "    if item['value'] is None:\n",
    "        continue\n",
    "    else:\n",
    "        print(item['date'],item['value'])\n",
    "        break"
   ]
  },
  {
   "cell_type": "code",
   "execution_count": null,
   "metadata": {},
   "outputs": [],
   "source": []
  }
 ],
 "metadata": {
  "kernelspec": {
   "display_name": "Python 3",
   "language": "python",
   "name": "python3"
  },
  "language_info": {
   "codemirror_mode": {
    "name": "ipython",
    "version": 3
   },
   "file_extension": ".py",
   "mimetype": "text/x-python",
   "name": "python",
   "nbconvert_exporter": "python",
   "pygments_lexer": "ipython3",
   "version": "3.7.2"
  }
 },
 "nbformat": 4,
 "nbformat_minor": 2
}
